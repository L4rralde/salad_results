{
 "cells": [
  {
   "cell_type": "code",
   "execution_count": 1,
   "id": "fe8b13f4-17c0-4bc0-beb7-194c133e1132",
   "metadata": {},
   "outputs": [],
   "source": [
    "from rutils import AllLightningLogs"
   ]
  },
  {
   "cell_type": "code",
   "execution_count": 2,
   "id": "c99de760-1b3a-4d82-906d-b467237a7478",
   "metadata": {},
   "outputs": [],
   "source": [
    "logs = AllLightningLogs()"
   ]
  },
  {
   "cell_type": "code",
   "execution_count": 3,
   "id": "621c490b-1a36-4146-b4b3-290c2164b65d",
   "metadata": {},
   "outputs": [
    {
     "data": {
      "text/plain": [
       "['baseline']"
      ]
     },
     "execution_count": 3,
     "metadata": {},
     "output_type": "execute_result"
    }
   ],
   "source": [
    "logs.experiments"
   ]
  },
  {
   "cell_type": "code",
   "execution_count": 5,
   "id": "57c04426-2ebc-4004-933b-525b0643dca1",
   "metadata": {},
   "outputs": [],
   "source": [
    "baseline_results = logs['baseline']"
   ]
  },
  {
   "cell_type": "code",
   "execution_count": 36,
   "id": "544f8099-c88f-4ded-814e-91b393e78b6c",
   "metadata": {},
   "outputs": [],
   "source": [
    "import matplotlib.pyplot as plt\n"
   ]
  },
  {
   "cell_type": "code",
   "execution_count": 13,
   "id": "4718150e-0915-4720-9447-47e45a0fdebb",
   "metadata": {},
   "outputs": [
    {
     "data": {
      "text/html": [
       "<div>\n",
       "<style scoped>\n",
       "    .dataframe tbody tr th:only-of-type {\n",
       "        vertical-align: middle;\n",
       "    }\n",
       "\n",
       "    .dataframe tbody tr th {\n",
       "        vertical-align: top;\n",
       "    }\n",
       "\n",
       "    .dataframe thead th {\n",
       "        text-align: right;\n",
       "    }\n",
       "</style>\n",
       "<table border=\"1\" class=\"dataframe\">\n",
       "  <thead>\n",
       "    <tr style=\"text-align: right;\">\n",
       "      <th></th>\n",
       "      <th>b_acc</th>\n",
       "      <th>epoch</th>\n",
       "      <th>loss</th>\n",
       "      <th>pitts30k_test/R1</th>\n",
       "      <th>pitts30k_test/R10</th>\n",
       "      <th>pitts30k_test/R5</th>\n",
       "      <th>pitts30k_val/R1</th>\n",
       "      <th>pitts30k_val/R10</th>\n",
       "      <th>pitts30k_val/R5</th>\n",
       "      <th>step</th>\n",
       "    </tr>\n",
       "  </thead>\n",
       "  <tbody>\n",
       "    <tr>\n",
       "      <th>0</th>\n",
       "      <td>0.317578</td>\n",
       "      <td>0</td>\n",
       "      <td>0.405856</td>\n",
       "      <td>NaN</td>\n",
       "      <td>NaN</td>\n",
       "      <td>NaN</td>\n",
       "      <td>NaN</td>\n",
       "      <td>NaN</td>\n",
       "      <td>NaN</td>\n",
       "      <td>19</td>\n",
       "    </tr>\n",
       "    <tr>\n",
       "      <th>1</th>\n",
       "      <td>0.400000</td>\n",
       "      <td>0</td>\n",
       "      <td>0.660728</td>\n",
       "      <td>NaN</td>\n",
       "      <td>NaN</td>\n",
       "      <td>NaN</td>\n",
       "      <td>NaN</td>\n",
       "      <td>NaN</td>\n",
       "      <td>NaN</td>\n",
       "      <td>39</td>\n",
       "    </tr>\n",
       "    <tr>\n",
       "      <th>2</th>\n",
       "      <td>0.451693</td>\n",
       "      <td>0</td>\n",
       "      <td>0.378233</td>\n",
       "      <td>NaN</td>\n",
       "      <td>NaN</td>\n",
       "      <td>NaN</td>\n",
       "      <td>NaN</td>\n",
       "      <td>NaN</td>\n",
       "      <td>NaN</td>\n",
       "      <td>59</td>\n",
       "    </tr>\n",
       "    <tr>\n",
       "      <th>3</th>\n",
       "      <td>0.481738</td>\n",
       "      <td>0</td>\n",
       "      <td>0.483507</td>\n",
       "      <td>NaN</td>\n",
       "      <td>NaN</td>\n",
       "      <td>NaN</td>\n",
       "      <td>NaN</td>\n",
       "      <td>NaN</td>\n",
       "      <td>NaN</td>\n",
       "      <td>79</td>\n",
       "    </tr>\n",
       "    <tr>\n",
       "      <th>4</th>\n",
       "      <td>0.486406</td>\n",
       "      <td>0</td>\n",
       "      <td>0.747880</td>\n",
       "      <td>NaN</td>\n",
       "      <td>NaN</td>\n",
       "      <td>NaN</td>\n",
       "      <td>NaN</td>\n",
       "      <td>NaN</td>\n",
       "      <td>NaN</td>\n",
       "      <td>99</td>\n",
       "    </tr>\n",
       "    <tr>\n",
       "      <th>...</th>\n",
       "      <td>...</td>\n",
       "      <td>...</td>\n",
       "      <td>...</td>\n",
       "      <td>...</td>\n",
       "      <td>...</td>\n",
       "      <td>...</td>\n",
       "      <td>...</td>\n",
       "      <td>...</td>\n",
       "      <td>...</td>\n",
       "      <td>...</td>\n",
       "    </tr>\n",
       "    <tr>\n",
       "      <th>982</th>\n",
       "      <td>0.806003</td>\n",
       "      <td>9</td>\n",
       "      <td>0.182009</td>\n",
       "      <td>NaN</td>\n",
       "      <td>NaN</td>\n",
       "      <td>NaN</td>\n",
       "      <td>NaN</td>\n",
       "      <td>NaN</td>\n",
       "      <td>NaN</td>\n",
       "      <td>19479</td>\n",
       "    </tr>\n",
       "    <tr>\n",
       "      <th>983</th>\n",
       "      <td>0.806096</td>\n",
       "      <td>9</td>\n",
       "      <td>0.103706</td>\n",
       "      <td>NaN</td>\n",
       "      <td>NaN</td>\n",
       "      <td>NaN</td>\n",
       "      <td>NaN</td>\n",
       "      <td>NaN</td>\n",
       "      <td>NaN</td>\n",
       "      <td>19499</td>\n",
       "    </tr>\n",
       "    <tr>\n",
       "      <th>984</th>\n",
       "      <td>0.806388</td>\n",
       "      <td>9</td>\n",
       "      <td>0.151317</td>\n",
       "      <td>NaN</td>\n",
       "      <td>NaN</td>\n",
       "      <td>NaN</td>\n",
       "      <td>NaN</td>\n",
       "      <td>NaN</td>\n",
       "      <td>NaN</td>\n",
       "      <td>19519</td>\n",
       "    </tr>\n",
       "    <tr>\n",
       "      <th>985</th>\n",
       "      <td>0.806572</td>\n",
       "      <td>9</td>\n",
       "      <td>0.070050</td>\n",
       "      <td>NaN</td>\n",
       "      <td>NaN</td>\n",
       "      <td>NaN</td>\n",
       "      <td>NaN</td>\n",
       "      <td>NaN</td>\n",
       "      <td>NaN</td>\n",
       "      <td>19539</td>\n",
       "    </tr>\n",
       "    <tr>\n",
       "      <th>986</th>\n",
       "      <td>NaN</td>\n",
       "      <td>9</td>\n",
       "      <td>NaN</td>\n",
       "      <td>0.914026</td>\n",
       "      <td>0.972565</td>\n",
       "      <td>0.961414</td>\n",
       "      <td>0.947161</td>\n",
       "      <td>0.995137</td>\n",
       "      <td>0.98817</td>\n",
       "      <td>19539</td>\n",
       "    </tr>\n",
       "  </tbody>\n",
       "</table>\n",
       "<p>987 rows × 10 columns</p>\n",
       "</div>"
      ],
      "text/plain": [
       "        b_acc  epoch      loss  pitts30k_test/R1  pitts30k_test/R10  \\\n",
       "0    0.317578      0  0.405856               NaN                NaN   \n",
       "1    0.400000      0  0.660728               NaN                NaN   \n",
       "2    0.451693      0  0.378233               NaN                NaN   \n",
       "3    0.481738      0  0.483507               NaN                NaN   \n",
       "4    0.486406      0  0.747880               NaN                NaN   \n",
       "..        ...    ...       ...               ...                ...   \n",
       "982  0.806003      9  0.182009               NaN                NaN   \n",
       "983  0.806096      9  0.103706               NaN                NaN   \n",
       "984  0.806388      9  0.151317               NaN                NaN   \n",
       "985  0.806572      9  0.070050               NaN                NaN   \n",
       "986       NaN      9       NaN          0.914026           0.972565   \n",
       "\n",
       "     pitts30k_test/R5  pitts30k_val/R1  pitts30k_val/R10  pitts30k_val/R5  \\\n",
       "0                 NaN              NaN               NaN              NaN   \n",
       "1                 NaN              NaN               NaN              NaN   \n",
       "2                 NaN              NaN               NaN              NaN   \n",
       "3                 NaN              NaN               NaN              NaN   \n",
       "4                 NaN              NaN               NaN              NaN   \n",
       "..                ...              ...               ...              ...   \n",
       "982               NaN              NaN               NaN              NaN   \n",
       "983               NaN              NaN               NaN              NaN   \n",
       "984               NaN              NaN               NaN              NaN   \n",
       "985               NaN              NaN               NaN              NaN   \n",
       "986          0.961414         0.947161          0.995137          0.98817   \n",
       "\n",
       "      step  \n",
       "0       19  \n",
       "1       39  \n",
       "2       59  \n",
       "3       79  \n",
       "4       99  \n",
       "..     ...  \n",
       "982  19479  \n",
       "983  19499  \n",
       "984  19519  \n",
       "985  19539  \n",
       "986  19539  \n",
       "\n",
       "[987 rows x 10 columns]"
      ]
     },
     "execution_count": 13,
     "metadata": {},
     "output_type": "execute_result"
    }
   ],
   "source": [
    "baseline_results.metrics"
   ]
  },
  {
   "cell_type": "code",
   "execution_count": 37,
   "id": "dbb76eb0-63c5-4b83-9a74-01b637a97df9",
   "metadata": {},
   "outputs": [
    {
     "data": {
      "text/plain": [
       "<matplotlib.legend.Legend at 0x7927275b8a50>"
      ]
     },
     "execution_count": 37,
     "metadata": {},
     "output_type": "execute_result"
    },
    {
     "data": {
      "image/png": "[encoded data removed]",
      "text/plain": [
       "<Figure size 640x480 with 1 Axes>"
      ]
     },
     "metadata": {},
     "output_type": "display_data"
    }
   ],
   "source": [
    "plt.plot(baseline_results.metrics['pitts30k_val/R1'].dropna(), label= 'val_r1')\n",
    "plt.plot(baseline_results.metrics['pitts30k_test/R1'].dropna(), label = 'test_r1')\n",
    "\n",
    "plt.legend()"
   ]
  },
  {
   "cell_type": "code",
   "execution_count": null,
   "id": "fd060fae-dc06-4292-b0c2-9447f4689482",
   "metadata": {},
   "outputs": [],
   "source": []
  }
 ],
 "metadata": {
  "kernelspec": {
   "display_name": "Python 3 (ipykernel)",
   "language": "python",
   "name": "python3"
  },
  "language_info": {
   "codemirror_mode": {
    "name": "ipython",
    "version": 3
   },
   "file_extension": ".py",
   "mimetype": "text/x-python",
   "name": "python",
   "nbconvert_exporter": "python",
   "pygments_lexer": "ipython3",
   "version": "3.13.5"
  }
 },
 "nbformat": 4,
 "nbformat_minor": 5
}
